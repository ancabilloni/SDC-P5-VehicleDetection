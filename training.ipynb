{
 "cells": [
  {
   "cell_type": "code",
   "execution_count": 1,
   "metadata": {
    "collapsed": false
   },
   "outputs": [],
   "source": [
    "import matplotlib.image as mpimg\n",
    "import matplotlib.pyplot as plt\n",
    "import numpy as np\n",
    "import cv2\n",
    "import glob\n",
    "import time\n",
    "from sklearn.svm import LinearSVC\n",
    "from sklearn.preprocessing import StandardScaler\n",
    "from skimage.feature import hog\n",
    "from sklearn.model_selection import train_test_split\n",
    "%matplotlib inline"
   ]
  },
  {
   "cell_type": "code",
   "execution_count": 2,
   "metadata": {
    "collapsed": false
   },
   "outputs": [],
   "source": [
    "car1 = glob.glob('vehicles/GTI_Far/*.png')\n",
    "car2 = glob.glob('vehicles/GTI_Left/*png')\n",
    "car3 = glob.glob('vehicles/GTI_MiddleClose/*.png')\n",
    "car4 = glob.glob('vehicles/GTI_Right/*.png')\n",
    "car5 = glob.glob('vehicles/KITTI_extracted/*.png')\n",
    "cars = np.concatenate((car1,car2,car3,car4,car5))\n",
    "\n",
    "non_car1 = glob.glob('non-vehicles/Extras/*.png')\n",
    "non_car2 = glob.glob('non-vehicles/GTI/*.png')\n",
    "non_cars = np.concatenate((non_car1,non_car2))"
   ]
  },
  {
   "cell_type": "code",
   "execution_count": 3,
   "metadata": {
    "collapsed": true
   },
   "outputs": [],
   "source": [
    "#Define a function to return HOG features and visualization\n",
    "#Reference Udacity's Self Driving Car Nanodegree lectures\n",
    "def bin_spatial(img, size=(32,32)):\n",
    "    return cv2.resize(img,size).ravel()\n",
    "\n",
    "def convert_color(image, cspace='RGB'):\n",
    "    if cspace != 'RGB':\n",
    "        if cspace == 'HSV':\n",
    "            feature_image = cv2.cvtColor(image, cv2.COLOR_RGB2HSV)\n",
    "        elif cspace == 'YUV':\n",
    "            feature_image = cv2.cvtColor(image, cv2.COLOR_RGB2YUV)\n",
    "        elif cspace == 'HLS':\n",
    "            feature_image = cv2.cvtColor(image, cv2.COLOR_RGB2HLS)\n",
    "        elif cspace == 'YCrCb':\n",
    "            feature_image = cv2.cvtColor(image, cv2.COLOR_RGB2YCrCb)\n",
    "    else:\n",
    "        feature_image = np.copy(image)\n",
    "    return feature_image\n",
    "        \n",
    "def color_hist(img, nbins=32, bins_range=(0,256)):\n",
    "    channel1_hist = np.histogram(img[:,:,0], bins=nbins, range=bins_range)\n",
    "    channel2_hist = np.histogram(img[:,:,1], bins=nbins, range=bins_range)\n",
    "    channel3_hist = np.histogram(img[:,:,2], bins=nbins, range=bins_range)\n",
    "    hist_features = np.concatenate((channel1_hist[0], channel2_hist[0], channel3_hist[0]))\n",
    "    return hist_features\n",
    "\n",
    "def get_hog_feature(img, orient, pix_per_cell, cell_per_block, vis=False, feature_vec=True):\n",
    "    if vis == True:\n",
    "        features, hog_image = hog(img,orientations=orient,\n",
    "                                  pixels_per_cell=(pix_per_cell, pix_per_cell),\n",
    "                                  cells_per_block=(cell_per_block, cell_per_block),\n",
    "                                  visualise=vis, transform_sqrt=True, feature_vector=feature_vec)\n",
    "        return features, hog_image\n",
    "    else:\n",
    "        features = hog(img,orientations=orient,pixels_per_cell=(pix_per_cell, pix_per_cell),\n",
    "                        cells_per_block=(cell_per_block, cell_per_block), transform_sqrt=True,\n",
    "                        feature_vector=feature_vec)\n",
    "        return features\n",
    "\n",
    "#Extract Iimage features\n",
    "def extract_features(imgs,cspace='RGB', spatial=True, spatial_size=(32,32),\n",
    "                     hist_feature=True, nbins=32, orient=9,pix_per_cell=8, cell_per_block=2, hog_channel=0):\n",
    "    features = []\n",
    "    for img in imgs:\n",
    "        image = mpimg.imread(img)\n",
    "        img_features = []\n",
    "        \n",
    "        #Convert Color\n",
    "        feature_image = convert_color(image, cspace=cspace)\n",
    "            \n",
    "        #Spatial Feature\n",
    "        if spatial == True:\n",
    "            img_features.append(bin_spatial(feature_image, spatial_size))\n",
    "            \n",
    "        #Histogram Color features\n",
    "        if hist_feature == True:\n",
    "            hist_features = color_hist(feature_image, nbins)\n",
    "            img_features.append(hist_features)\n",
    "            \n",
    "        #HOG Features\n",
    "        if hog_channel == 'ALL':\n",
    "            hog_feature = []\n",
    "            for channel in range(feature_image.shape[2]):\n",
    "                hog_feature.append(get_hog_feature(feature_image[:, :, channel], orient, pix_per_cell,\n",
    "                                                   cell_per_block, vis=False, feature_vec=True))\n",
    "            hog_feature = np.ravel(hog_feature)\n",
    "        else:\n",
    "            hog_feature = get_hog_feature(feature_image[:, :, hog_channel], orient, pix_per_cell,\n",
    "                                          cell_per_block, vis=False, feature_vec=True)\n",
    "        img_features.append(hog_feature)\n",
    "        features.append(np.concatenate(img_features))\n",
    "        \n",
    "    return features"
   ]
  },
  {
   "cell_type": "code",
   "execution_count": null,
   "metadata": {
    "collapsed": false
   },
   "outputs": [],
   "source": [
    "# cars = cars[0:sample_size]\n",
    "# non_cars = non_cars[0:sample_size]\n",
    "colorspace = 'YCrCb'\n",
    "spatial_size = (32,32)\n",
    "nbins = 32\n",
    "orient = 9\n",
    "pix_per_cell = 8\n",
    "cell_per_block = 2\n",
    "hog_channel = 'ALL'\n",
    "\n",
    "t=time.time()\n",
    "car_features = extract_features(cars, cspace=colorspace, spatial_size=spatial_size,\n",
    "                                nbins=nbins, orient=orient, pix_per_cell=pix_per_cell,\n",
    "                                cell_per_block=cell_per_block, hog_channel=hog_channel)\n",
    "\n",
    "noncar_features = extract_features(non_cars, cspace=colorspace, spatial_size=spatial_size,\n",
    "                                nbins=nbins, orient=orient, pix_per_cell=pix_per_cell,\n",
    "                                cell_per_block=cell_per_block, hog_channel=hog_channel)\n",
    "#Training Input\n",
    "X = np.vstack((car_features, noncar_features)).astype(np.float64)\n",
    "X_scaler = StandardScaler().fit(X)\n",
    "scaled_X = X_scaler.transform(X)\n",
    "y = np.concatenate((np.ones(len(cars)), np.zeros(len(non_cars))))"
   ]
  },
  {
   "cell_type": "markdown",
   "metadata": {},
   "source": [
    "### Extract Hog Example"
   ]
  },
  {
   "cell_type": "code",
   "execution_count": 10,
   "metadata": {
    "collapsed": false
   },
   "outputs": [
    {
     "data": {
      "text/plain": [
       "<matplotlib.image.AxesImage at 0x1e8adeca748>"
      ]
     },
     "execution_count": 10,
     "metadata": {},
     "output_type": "execute_result"
    },
    {
     "data": {
      "image/png": "[encoded data removed]",
      "text/plain": [
       "<matplotlib.figure.Figure at 0x1e8ad861d30>"
      ]
     },
     "metadata": {},
     "output_type": "display_data"
    }
   ],
   "source": [
    "orient = 9\n",
    "pix_per_cell = 8\n",
    "cell_per_block = 2\n",
    "car = mpimg.imread(cars[np.random.randint(1,10)])\n",
    "car_features, car_hog = get_hog_feature(car[:,:,1], orient, pix_per_cell, cell_per_block, vis=True, feature_vec=True)\n",
    "\n",
    "noncar = mpimg.imread(non_cars[np.random.randint(1,10)])\n",
    "noncar_features, noncar_hog = get_hog_feature(noncar[:,:,1], orient, pix_per_cell, cell_per_block, vis=True, feature_vec=True)\n",
    "\n",
    "fig = plt.figure(figsize=(10,10))\n",
    "plt.subplot(221)\n",
    "plt.imshow(car)\n",
    "plt.subplot(222)\n",
    "plt.subplot(222).set_title('Car Hog Features')\n",
    "plt.imshow(car_hog, cmap='gray')\n",
    "plt.subplot(223)\n",
    "plt.imshow(noncar)\n",
    "plt.subplot(224)\n",
    "plt.subplot(224).set_title('Non Car Hog Features')\n",
    "plt.imshow(noncar_hog, cmap='gray')\n"
   ]
  },
  {
   "cell_type": "code",
   "execution_count": null,
   "metadata": {
    "collapsed": false
   },
   "outputs": [],
   "source": [
    "#http://datascience.stackexchange.com/questions/12321/difference-between-fit-and-fit-transform-in-scikit-learn-models\n",
    "X_train, X_test, y_train, y_test = train_test_split(scaled_X, y, test_size=0.20, random_state = 42)\n",
    "svc = LinearSVC()\n",
    "svc.fit(X_train, y_train)\n",
    "# n_predict = 20\n",
    "accuracy = svc.score(X_test,y_test)\n",
    "# predict = svc.predict(X_test[0:500])\n",
    "print ('Accuracy: ',accuracy)\n",
    "# print ('Prediction: ',predict)\n",
    "# print ('Actual: ', y_test[0:500])"
   ]
  },
  {
   "cell_type": "code",
   "execution_count": null,
   "metadata": {
    "collapsed": false
   },
   "outputs": [],
   "source": [
    "car1 = mpimg.imread('test6.jpg')\n",
    "car = get_hog_feature(car1[:,:,0], orient, pix_per_cell, cell_per_block, vis=False, feature_vec=False)\n",
    "print (car.shape)\n",
    "print (np.concatenate(([1,3,4],[4,5,6],[3,2])).reshape(1,-1))"
   ]
  },
  {
   "cell_type": "code",
   "execution_count": null,
   "metadata": {
    "collapsed": false
   },
   "outputs": [],
   "source": [
    "import pickle\n",
    "import os\n",
    "pickle_file = 'SVMvehicles.p'\n",
    "if not os.path.isfile(pickle_file):\n",
    "    print('Saving data to pickle file...')\n",
    "    try:\n",
    "        with open('SVMvehicles.p', 'wb') as pfile:\n",
    "            pickle.dump(\n",
    "            {\n",
    "                'svm_model': svc,\n",
    "                'scaler' : X_scaler,\n",
    "                'color_space': colorspace,\n",
    "                'spatial_size': spatial_size,\n",
    "                'bins_number': nbins,\n",
    "                'orient': orient,\n",
    "                'pix_per_cell': pix_per_cell,\n",
    "                'cell_per_block': cell_per_block,\n",
    "                'hog_channel': hog_channel\n",
    "            },\n",
    "            pfile, pickle.HIGHEST_PROTOCOL)\n",
    "    except Exception as e:\n",
    "        print('Unable to save data to', pickle_file, ':', e)\n",
    "        raise\n",
    "        \n",
    "print('Data cached in pickle file.')"
   ]
  },
  {
   "cell_type": "markdown",
   "metadata": {},
   "source": [
    "### Checkpoint"
   ]
  },
  {
   "cell_type": "code",
   "execution_count": null,
   "metadata": {
    "collapsed": false
   },
   "outputs": [],
   "source": [
    "import pickle\n",
    "import matplotlib.image as mpimg\n",
    "import matplotlib.pyplot as plt\n",
    "import numpy as np\n",
    "import cv2\n",
    "import glob\n",
    "import time\n",
    "from scipy.ndimage.measurements import label\n",
    "from collections import deque\n",
    "from sklearn.svm import LinearSVC\n",
    "from sklearn.preprocessing import StandardScaler\n",
    "from skimage.feature import hog\n",
    "from sklearn.model_selection import train_test_split\n",
    "%matplotlib inline\n",
    "\n",
    "pickle_file = 'SVMvehicles.p'\n",
    "with open(pickle_file, 'rb') as f:\n",
    "    pickle_data = pickle.load(f)\n",
    "    svc = pickle_data['svm_model']\n",
    "    X_scaler = pickle_data['scaler']\n",
    "    colorspace = pickle_data['color_space']\n",
    "    spatial_size = pickle_data['spatial_size']\n",
    "    nbins = pickle_data['bins_number']\n",
    "    orient = pickle_data['orient']\n",
    "    pix_per_cell = pickle_data['pix_per_cell']\n",
    "    cell_per_block = pickle_data['cell_per_block']\n",
    "    hog_channel = pickle_data['hog_channel']\n",
    "    del pickle_data\n",
    "    \n",
    "print('Data and modules loaded')"
   ]
  },
  {
   "cell_type": "code",
   "execution_count": null,
   "metadata": {
    "collapsed": false
   },
   "outputs": [],
   "source": [
    "def find_cars(image, ystart, ystop, scale, svc, X_scaler, orient, pix_per_cell, cell_per_block,\n",
    "                spatial_size, hist_bins):\n",
    "    \n",
    "    draw_image = np.copy(image)\n",
    "    scaled_image = image.astype(np.float32)/255\n",
    "    \n",
    "    #Region of Interest (ROI)\n",
    "    image_roi = scaled_image[ystart:ystop,:,:]\n",
    "    search_image = convert_color(image_roi,cspace='YCrCb')\n",
    "    \n",
    "    #Scale ROI\n",
    "    imshape = search_image.shape\n",
    "    if scale != 1:\n",
    "        search_image = cv2.resize(search_image, (np.int(imshape[1]/scale), (np.int(imshape[0]/scale))))\n",
    "\n",
    "    #Blocks of the entire region of interest\n",
    "    nx_blocks = (search_image.shape[1]//pix_per_cell) - cell_per_block + 1\n",
    "    ny_blocks = (search_image.shape[0]//pix_per_cell) - cell_per_block + 1\n",
    "    \n",
    "    #Window without steps\n",
    "    window = 64\n",
    "    window_blocks = (window//pix_per_cell) - cell_per_block + 1\n",
    "    cell_per_window = window//pix_per_cell\n",
    "    x_windows = search_image.shape[1]//window\n",
    "    y_windows = search_image.shape[0]//window\n",
    "    \n",
    "    #With steps\n",
    "    cell_per_step = 2\n",
    "    step_per_window = cell_per_window//cell_per_step\n",
    "    nxsteps = (x_windows-1)*step_per_window\n",
    "    nysteps = (y_windows-1)*step_per_window\n",
    "    \n",
    "    #Extract hog features without feature vector in all channel\n",
    "    hog1 = get_hog_feature(search_image[:,:,0], orient, pix_per_cell, cell_per_block, feature_vec=False)\n",
    "    hog2 = get_hog_feature(search_image[:,:,1], orient, pix_per_cell, cell_per_block, feature_vec=False)\n",
    "    hog3 = get_hog_feature(search_image[:,:,2], orient, pix_per_cell, cell_per_block, feature_vec=False)\n",
    "    \n",
    "    car_boxes = []\n",
    "    for xstep in range(nxsteps):\n",
    "        for ystep in range(nysteps):\n",
    "            #Cell position\n",
    "            ypos = ystep*cell_per_step\n",
    "            xpos = xstep*cell_per_step\n",
    "            #Extract HOG for each step\n",
    "            hog_feat1 = hog1[ypos:ypos+window_blocks, xpos:xpos+window_blocks].ravel()\n",
    "            hog_feat2 = hog2[ypos:ypos+window_blocks, xpos:xpos+window_blocks].ravel()\n",
    "            hog_feat3 = hog3[ypos:ypos+window_blocks, xpos:xpos+window_blocks].ravel()\n",
    "            hog_features = np.hstack((hog_feat1,hog_feat2,hog_feat3))\n",
    "            \n",
    "            #Pixel position\n",
    "            x_left = xpos*pix_per_cell\n",
    "            y_top = ypos*pix_per_cell\n",
    "            \n",
    "            #Window Image\n",
    "            sub_img = cv2.resize(search_image[y_top:y_top+window, x_left:x_left+window],(64,64))\n",
    "            \n",
    "            #Spatial and Color Features\n",
    "            spatial_features = bin_spatial(sub_img, spatial_size)\n",
    "            color_hist_features = color_hist(sub_img, nbins=hist_bins, bins_range=(0,256))\n",
    "            \n",
    "            #Combine test features\n",
    "            test_features = X_scaler.transform(np.concatenate((spatial_features,color_hist_features,hog_features)).reshape(1,-1))\n",
    "            \n",
    "            prediction = svc.predict(test_features)\n",
    "            if prediction == 1:\n",
    "                xleft_draw = np.int(x_left*scale)\n",
    "                ytop_draw = np.int(y_top*scale) + ystart\n",
    "                win_draw = np.int(window*scale)\n",
    "#                 cv2.rectangle(draw_image,(xleft_draw,ytop_draw), (xleft_draw+win_draw, ytop_draw+win_draw),(0,0,255),6)\n",
    "                car_boxes.append(((xleft_draw,ytop_draw),(xleft_draw+win_draw, ytop_draw+win_draw)))\n",
    "    \n",
    "    return car_boxes\n",
    "\n",
    "#Add head\n",
    "def add_heat(heatmap, car_boxes):\n",
    "    for box in car_boxes:\n",
    "        heatmap[box[0][1]:box[1][1], box[0][0]:box[1][0]] += 1\n",
    "    return heatmap\n",
    "\n",
    "#Heatmap threshold\n",
    "def heat_threshold(heatmap, threshold):\n",
    "    heatmap[heatmap <= threshold] = 0\n",
    "    return heatmap\n",
    "\n",
    "#Draw car\n",
    "def draw_car_box(image, labels):\n",
    "    for car_number in range(1,labels[1]+1):\n",
    "        nonzero = (labels[0] == car_number).nonzero()\n",
    "        car_y = np.array(nonzero[0])\n",
    "        car_x = np.array(nonzero[1])\n",
    "        top_left = (np.min(car_x),np.min(car_y))\n",
    "        bottom_right = (np.max(car_x),np.max(car_y))\n",
    "        cv2.rectangle(image, top_left, bottom_right, (0,0,255), 6)\n",
    "        \n",
    "    return image\n",
    "\n"
   ]
  },
  {
   "cell_type": "code",
   "execution_count": null,
   "metadata": {
    "collapsed": false
   },
   "outputs": [],
   "source": [
    "ystart = 400\n",
    "ystop = 650\n",
    "# scale = 0.5\n",
    "images = glob.glob('test_images/*.jpg')\n",
    "scales = [0.75, 1, 1.25, 1.5]\n",
    "n = 1\n",
    "for image in images:\n",
    "    car_boxes = []\n",
    "    img = mpimg.imread(image)\n",
    "    for scale in scales:\n",
    "        car_boxes.extend(find_cars(img, ystart, ystop, scale, svc, X_scaler, orient,\n",
    "                           pix_per_cell, cell_per_block, spatial_size, hist_bins = nbins))\n",
    "    for box in car_boxes:\n",
    "        img = cv2.rectangle(img, box[0], box[1], (0,0,255), 6)\n",
    "    mpimg.imsave('output_images/test'+str(n)+'.jpg', img)\n",
    "    n += 1\n",
    "print('Done saving test images.')"
   ]
  },
  {
   "cell_type": "code",
   "execution_count": null,
   "metadata": {
    "collapsed": false
   },
   "outputs": [],
   "source": [
    "ystart = 400\n",
    "ystop = 650\n",
    "# scale = 0.5\n",
    "image = mpimg.imread('test_images/test1.jpg')\n",
    "scales = [0.75,1,1.5,1.75]\n",
    "car_boxes = []\n",
    "for scale in scales:\n",
    "    car_boxes.extend(find_cars(image, ystart, ystop, scale, svc, X_scaler, orient, \n",
    "                                      pix_per_cell, cell_per_block, spatial_size, hist_bins = nbins))\n",
    "\n",
    "    \n",
    "heat = np.zeros_like(image[:,:,0]).astype(np.float)\n",
    "\n",
    "heat = add_heat(heat, car_boxes)\n",
    "heatmap = np.clip(heat,0,255)\n",
    "labels = label(heat)\n",
    "draw_img = draw_car_box(np.copy(image),labels)\n",
    "\n",
    "heat1 = heat_threshold(heat,2)\n",
    "heatmap1 = np.clip(heat1,0,255)\n",
    "labels1 = label(heat1)\n",
    "draw_img1 = draw_car_box(np.copy(image),labels1)\n",
    "\n",
    "heat2 = heat_threshold(heat,3)\n",
    "heatmap2 = np.clip(heat2,0,255)\n",
    "labels2 = label(heat2)\n",
    "draw_img2 = draw_car_box(np.copy(image),labels2)\n",
    "\n",
    "fig = plt.figure(figsize=(20,15))\n",
    "plt.subplot(321)\n",
    "plt.imshow(draw_img)\n",
    "plt.subplot(322)\n",
    "plt.subplot(322).set_title('No Threshold')\n",
    "plt.imshow(heatmap, cmap='hot')\n",
    "plt.subplot(323)\n",
    "plt.imshow(draw_img1)\n",
    "plt.subplot(324)\n",
    "plt.subplot(324).set_title('Threshold = 2')\n",
    "plt.imshow(heatmap1, cmap='hot')\n",
    "plt.subplot(325)\n",
    "plt.imshow(draw_img2)\n",
    "plt.subplot(326)\n",
    "plt.subplot(326).set_title('Threshold = 3')\n",
    "plt.imshow(heatmap2, cmap='hot')\n",
    "# fig.tight_layout()"
   ]
  },
  {
   "cell_type": "code",
   "execution_count": null,
   "metadata": {
    "collapsed": false
   },
   "outputs": [],
   "source": [
    "print (heatmap.shape)\n",
    "print (heatmap.max())\n",
    "# histogram = np.sum(heat,axis=0)\n",
    "a = heatmap.ravel()[heatmap.ravel()>0]\n",
    "# histogram = np.histogram(a, bins = 10)\n",
    "plt.hist(a, bins=10)\n",
    "plt.show()"
   ]
  },
  {
   "cell_type": "code",
   "execution_count": null,
   "metadata": {
    "collapsed": true
   },
   "outputs": [],
   "source": [
    "n = 15\n",
    "car_topLeft = [deque(maxlen=n) for x in range(n)]\n",
    "car_lowRight = [deque(maxlen=n)for x in range(n)]\n",
    "def process(image):\n",
    "    ystart = 400\n",
    "    ystop = 650\n",
    "#     scale = 1.5\n",
    "#     scale1 = 0.75\n",
    "#     car_boxes1 = find_cars(image, ystart, ystop, scale1, svc, X_scaler, orient, \n",
    "#                                       pix_per_cell, cell_per_block, spatial_size, hist_bins = nbins)\n",
    "#     scale2 = 1.5\n",
    "#     car_boxes2 = find_cars(image, ystart, ystop, scale2, svc, X_scaler, orient, \n",
    "#                                       pix_per_cell, cell_per_block, spatial_size, hist_bins = nbins)\n",
    "\n",
    "#     car_boxes = car_boxes1 + car_boxes2\n",
    "    scales = [0.75,1,1.25,1.5]\n",
    "    car_boxes = []\n",
    "    for scale in scales:\n",
    "        car_boxes.extend(find_cars(image, ystart, ystop, scale, svc, X_scaler, orient, \n",
    "                                      pix_per_cell, cell_per_block, spatial_size, hist_bins = nbins))\n",
    "    \n",
    "    heat = np.zeros_like(image[:,:,0]).astype(np.float)\n",
    "    heat = add_heat(heat, car_boxes)\n",
    "    heat = heat_threshold(heat,3)\n",
    "    heatmap = np.clip(heat,0,255)\n",
    "    labels = label(heat)\n",
    "    draw_img = np.copy(image)\n",
    "    for car_number in range(1,labels[1]+1):\n",
    "        nonzero = (labels[0] == car_number).nonzero()\n",
    "        car_y = np.array(nonzero[0])\n",
    "        car_x = np.array(nonzero[1])\n",
    "        topLeft_current = (np.min(car_x),np.min(car_y))\n",
    "        lowRight_current = (np.max(car_x),np.max(car_y))\n",
    "        \n",
    "        car_topLeft[car_number].append(topLeft_current)\n",
    "        car_lowRight[car_number].append(lowRight_current)\n",
    "        box_left = list(car_topLeft[car_number])\n",
    "        box_right = list(car_lowRight[car_number])\n",
    "        top_left = (sum (k[0] for k in box_left)//n, \n",
    "                           sum(k[1] for k in box_left)//n)\n",
    "        \n",
    "        low_right = (sum (k[0] for k in box_right)//n, \n",
    "                           sum(k[1] for k in box_right)//n)\n",
    "        if len(box_left) >= 6:\n",
    "            cv2.rectangle(draw_img, top_left, low_right, (0,0,255), 6)\n",
    "    \n",
    "    return draw_img"
   ]
  },
  {
   "cell_type": "code",
   "execution_count": null,
   "metadata": {
    "collapsed": false
   },
   "outputs": [],
   "source": [
    "from moviepy.editor import VideoFileClip\n",
    "from IPython.display import HTML\n",
    "test_output = 'project_vid.mp4'\n",
    "clip1 = VideoFileClip('project_video.mp4')\n",
    "test_clip = clip1.fl_image(process)\n",
    "%time test_clip.write_videofile(test_output, audio=False)"
   ]
  },
  {
   "cell_type": "code",
   "execution_count": null,
   "metadata": {
    "collapsed": false
   },
   "outputs": [],
   "source": [
    "from moviepy.editor import VideoFileClip\n",
    "\n",
    "test_output = 'project_clip.mp4'\n",
    "clip1 = VideoFileClip('project_video.mp4').subclip(4,14)\n",
    "test_clip = clip1.fl_image(process)\n",
    "%time test_clip.write_videofile(test_output, audio=False)"
   ]
  },
  {
   "cell_type": "code",
   "execution_count": null,
   "metadata": {
    "collapsed": true
   },
   "outputs": [],
   "source": []
  }
 ],
 "metadata": {
  "kernelspec": {
   "display_name": "Python 3",
   "language": "python",
   "name": "python3"
  },
  "language_info": {
   "codemirror_mode": {
    "name": "ipython",
    "version": 3
   },
   "file_extension": ".py",
   "mimetype": "text/x-python",
   "name": "python",
   "nbconvert_exporter": "python",
   "pygments_lexer": "ipython3",
   "version": "3.5.2"
  },
  "widgets": {
   "state": {},
   "version": "1.1.2"
  }
 },
 "nbformat": 4,
 "nbformat_minor": 2
}
